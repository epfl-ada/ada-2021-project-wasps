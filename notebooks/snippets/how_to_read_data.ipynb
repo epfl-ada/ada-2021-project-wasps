{
  "nbformat": 4,
  "nbformat_minor": 0,
  "metadata": {
    "colab": {
      "name": "how_to_read_data.ipynb",
      "provenance": []
    },
    "kernelspec": {
      "name": "python3",
      "display_name": "Python 3"
    },
    "language_info": {
      "name": "python"
    }
  },
  "cells": [
    {
      "cell_type": "markdown",
      "metadata": {
        "id": "WQ6ZPxuCIqnH"
      },
      "source": [
        "# Prerequisites "
      ]
    },
    {
      "cell_type": "markdown",
      "metadata": {
        "id": "9uzW71oXI17W"
      },
      "source": [
        "go to [my drive](https://drive.google.com/drive/u/2/folders/13p-gOYiPuyFNu4iH2qh_SNaR5vPrHtC_) click on three dots and create shortcut to your drive"
      ]
    },
    {
      "cell_type": "markdown",
      "metadata": {
        "id": "lBBjDPcNJ2le"
      },
      "source": [
        "**There are duplicated rows with same name as one name can have multiple wikipedia entries**"
      ]
    },
    {
      "cell_type": "markdown",
      "metadata": {
        "id": "8BDLZ7YDBGcl"
      },
      "source": [
        "# imports and data"
      ]
    },
    {
      "cell_type": "code",
      "metadata": {
        "colab": {
          "base_uri": "https://localhost:8080/"
        },
        "id": "SPGydwNTIMZR",
        "outputId": "17b5f7b7-2849-4852-867b-2de9ea5972fe"
      },
      "source": [
        "pip install --upgrade pyarrow"
      ],
      "execution_count": 1,
      "outputs": [
        {
          "output_type": "stream",
          "name": "stdout",
          "text": [
            "Requirement already satisfied: pyarrow in /usr/local/lib/python3.7/dist-packages (3.0.0)\n",
            "Collecting pyarrow\n",
            "  Downloading pyarrow-6.0.1-cp37-cp37m-manylinux_2_17_x86_64.manylinux2014_x86_64.whl (25.6 MB)\n",
            "\u001b[K     |████████████████████████████████| 25.6 MB 61.4 MB/s \n",
            "\u001b[?25hRequirement already satisfied: numpy>=1.16.6 in /usr/local/lib/python3.7/dist-packages (from pyarrow) (1.19.5)\n",
            "Installing collected packages: pyarrow\n",
            "  Attempting uninstall: pyarrow\n",
            "    Found existing installation: pyarrow 3.0.0\n",
            "    Uninstalling pyarrow-3.0.0:\n",
            "      Successfully uninstalled pyarrow-3.0.0\n",
            "Successfully installed pyarrow-6.0.1\n"
          ]
        }
      ]
    },
    {
      "cell_type": "code",
      "metadata": {
        "id": "UO0IzBgfBKHH"
      },
      "source": [
        "from google.colab import drive\n",
        "import pandas as pd\n",
        "import pyarrow as pa\n",
        "import pyarrow.parquet as pq\n",
        "import pyarrow.dataset as ds\n",
        "\n",
        "from tqdm import tqdm"
      ],
      "execution_count": 2,
      "outputs": []
    },
    {
      "cell_type": "code",
      "metadata": {
        "colab": {
          "base_uri": "https://localhost:8080/"
        },
        "id": "7Kp7pCr1BNUF",
        "outputId": "5339c281-90d7-49ae-bac5-718a5522514a"
      },
      "source": [
        "drive.mount('/content/drive')"
      ],
      "execution_count": 3,
      "outputs": [
        {
          "output_type": "stream",
          "name": "stdout",
          "text": [
            "Mounted at /content/drive\n"
          ]
        }
      ]
    },
    {
      "cell_type": "markdown",
      "metadata": {
        "id": "Azj9UpKfCD_Z"
      },
      "source": [
        "Read files as in https://arrow.apache.org/docs/python/dataset.html"
      ]
    },
    {
      "cell_type": "code",
      "metadata": {
        "id": "FtaMoFDhBXjw"
      },
      "source": [
        "path = \"/content/drive/MyDrive/quotes/quotes-2020-enhanced10000\"\n",
        "dataset = ds.dataset(path, format=\"parquet\")"
      ],
      "execution_count": 4,
      "outputs": []
    },
    {
      "cell_type": "markdown",
      "metadata": {
        "id": "btKMlEqjH0lJ"
      },
      "source": [
        "list files"
      ]
    },
    {
      "cell_type": "code",
      "metadata": {
        "id": "MoZWTVI8Jqjo"
      },
      "source": [
        "dataset.files"
      ],
      "execution_count": null,
      "outputs": []
    },
    {
      "cell_type": "markdown",
      "metadata": {
        "id": "7hp-aFeGH2Y1"
      },
      "source": [
        "count rows without loading whole dataset"
      ]
    },
    {
      "cell_type": "code",
      "metadata": {
        "colab": {
          "base_uri": "https://localhost:8080/"
        },
        "id": "Zs1X6QUDHky9",
        "outputId": "fa840b2c-7153-47ef-a718-5543c81fde4f"
      },
      "source": [
        "%%time\n",
        "dataset.count_rows()"
      ],
      "execution_count": 9,
      "outputs": [
        {
          "output_type": "stream",
          "name": "stdout",
          "text": [
            "CPU times: user 3.28 ms, sys: 0 ns, total: 3.28 ms\n",
            "Wall time: 3.3 ms\n"
          ]
        },
        {
          "output_type": "execute_result",
          "data": {
            "text/plain": [
              "13588576"
            ]
          },
          "metadata": {},
          "execution_count": 9
        }
      ]
    },
    {
      "cell_type": "markdown",
      "metadata": {
        "id": "B-2cq4-_IOO_"
      },
      "source": [
        ""
      ]
    },
    {
      "cell_type": "markdown",
      "metadata": {
        "id": "61-8T3kcDaSk"
      },
      "source": [
        "read first n rows"
      ]
    },
    {
      "cell_type": "code",
      "metadata": {
        "id": "8SkHwVvcDcop"
      },
      "source": [
        "rows = 100\n",
        "quotes = dataset.head(rows).to_pandas()"
      ],
      "execution_count": null,
      "outputs": []
    },
    {
      "cell_type": "markdown",
      "metadata": {
        "id": "nnRbAE3SDBDY"
      },
      "source": [
        "read whole dataset"
      ]
    },
    {
      "cell_type": "code",
      "metadata": {
        "id": "fK_okVEMB67L"
      },
      "source": [
        "quotes = dataset.to_table().to_pandas()"
      ],
      "execution_count": null,
      "outputs": []
    },
    {
      "cell_type": "markdown",
      "metadata": {
        "id": "7oOebTlIDD7H"
      },
      "source": [
        "read in batches"
      ]
    },
    {
      "cell_type": "code",
      "metadata": {
        "id": "DNjKdh67DFPo"
      },
      "source": [
        "for batch in dataset.to_batches():\n",
        "  quotes = batch.to_pandas()"
      ],
      "execution_count": null,
      "outputs": []
    },
    {
      "cell_type": "markdown",
      "metadata": {
        "id": "jmGXU6QvIVpg"
      },
      "source": [
        "load only some columns, **faster than filtering after loading!**\n"
      ]
    },
    {
      "cell_type": "code",
      "metadata": {
        "colab": {
          "base_uri": "https://localhost:8080/"
        },
        "id": "wEwsNw44IezS",
        "outputId": "a45737c4-71c1-4d19-f395-ff22616097e8"
      },
      "source": [
        "%%time\n",
        "for batch in dataset.to_batches(columns=[\"quoteID\", \"speaker\", \"gender\"]):\n",
        "  quotes = batch.to_pandas()\n",
        "  break"
      ],
      "execution_count": 13,
      "outputs": [
        {
          "output_type": "stream",
          "name": "stdout",
          "text": [
            "CPU times: user 56.2 ms, sys: 37.6 ms, total: 93.8 ms\n",
            "Wall time: 80.6 ms\n"
          ]
        }
      ]
    },
    {
      "cell_type": "code",
      "metadata": {
        "colab": {
          "base_uri": "https://localhost:8080/"
        },
        "id": "WjyZBzwNI-0Z",
        "outputId": "7b4a9fd6-4e7e-413f-f02c-930b1012b4f8"
      },
      "source": [
        "%%time\n",
        "for batch in dataset.to_batches():\n",
        "  quotes = batch.to_pandas()\n",
        "  quotes = quotes[[\"quoteID\", \"speaker\", \"gender\"]]\n",
        "  break"
      ],
      "execution_count": 14,
      "outputs": [
        {
          "output_type": "stream",
          "name": "stdout",
          "text": [
            "CPU times: user 466 ms, sys: 364 ms, total: 831 ms\n",
            "Wall time: 572 ms\n"
          ]
        }
      ]
    },
    {
      "cell_type": "markdown",
      "metadata": {
        "id": "1C1vHm1LEY0t"
      },
      "source": [
        "describe and other"
      ]
    },
    {
      "cell_type": "code",
      "metadata": {
        "colab": {
          "base_uri": "https://localhost:8080/",
          "height": 643
        },
        "id": "R_ZrzMtxEcLE",
        "outputId": "04f6a03a-64b5-478e-9c94-624b03323e2b"
      },
      "source": [
        "quotes.head()"
      ],
      "execution_count": null,
      "outputs": [
        {
          "output_type": "execute_result",
          "data": {
            "text/html": [
              "<div>\n",
              "<style scoped>\n",
              "    .dataframe tbody tr th:only-of-type {\n",
              "        vertical-align: middle;\n",
              "    }\n",
              "\n",
              "    .dataframe tbody tr th {\n",
              "        vertical-align: top;\n",
              "    }\n",
              "\n",
              "    .dataframe thead th {\n",
              "        text-align: right;\n",
              "    }\n",
              "</style>\n",
              "<table border=\"1\" class=\"dataframe\">\n",
              "  <thead>\n",
              "    <tr style=\"text-align: right;\">\n",
              "      <th></th>\n",
              "      <th>quoteID</th>\n",
              "      <th>quotation</th>\n",
              "      <th>speaker</th>\n",
              "      <th>qids</th>\n",
              "      <th>date</th>\n",
              "      <th>numOccurrences</th>\n",
              "      <th>probas</th>\n",
              "      <th>urls</th>\n",
              "      <th>phase</th>\n",
              "      <th>date_of_birth</th>\n",
              "      <th>nationality</th>\n",
              "      <th>gender</th>\n",
              "      <th>ethnic_group</th>\n",
              "      <th>occupation</th>\n",
              "      <th>party</th>\n",
              "      <th>academic_degree</th>\n",
              "      <th>id</th>\n",
              "      <th>candidacy</th>\n",
              "      <th>religion</th>\n",
              "      <th>_merge</th>\n",
              "    </tr>\n",
              "  </thead>\n",
              "  <tbody>\n",
              "    <tr>\n",
              "      <th>0</th>\n",
              "      <td>2020-01-28-000082</td>\n",
              "      <td>[ D ] espite the efforts of the partners to cr...</td>\n",
              "      <td>None</td>\n",
              "      <td>None</td>\n",
              "      <td>2020-01-28 08:04:05</td>\n",
              "      <td>1</td>\n",
              "      <td>[[None, 0.7272], [Prime Minister Netanyahu, 0....</td>\n",
              "      <td>[http://israelnationalnews.com/News/News.aspx/...</td>\n",
              "      <td>E</td>\n",
              "      <td>None</td>\n",
              "      <td>None</td>\n",
              "      <td>None</td>\n",
              "      <td>None</td>\n",
              "      <td>None</td>\n",
              "      <td>None</td>\n",
              "      <td>None</td>\n",
              "      <td>None</td>\n",
              "      <td>None</td>\n",
              "      <td>None</td>\n",
              "      <td>left_only</td>\n",
              "    </tr>\n",
              "    <tr>\n",
              "      <th>1</th>\n",
              "      <td>2020-01-16-000088</td>\n",
              "      <td>[ Department of Homeland Security ] was livid ...</td>\n",
              "      <td>Sue Myrick</td>\n",
              "      <td>Q367796</td>\n",
              "      <td>2020-01-16 12:00:13</td>\n",
              "      <td>1</td>\n",
              "      <td>[[Sue Myrick, 0.8867], [None, 0.0992], [Ron Wy...</td>\n",
              "      <td>[http://thehill.com/opinion/international/4782...</td>\n",
              "      <td>E</td>\n",
              "      <td>[+1941-08-01T00:00:00Z]</td>\n",
              "      <td>United States of America</td>\n",
              "      <td>female</td>\n",
              "      <td>None</td>\n",
              "      <td>politician</td>\n",
              "      <td>Republican Party</td>\n",
              "      <td>None</td>\n",
              "      <td>Q367796</td>\n",
              "      <td>None</td>\n",
              "      <td>United Methodist Church</td>\n",
              "      <td>both</td>\n",
              "    </tr>\n",
              "    <tr>\n",
              "      <th>2</th>\n",
              "      <td>2020-02-10-000142</td>\n",
              "      <td>... He (Madhav) also disclosed that the illega...</td>\n",
              "      <td>None</td>\n",
              "      <td>None</td>\n",
              "      <td>2020-02-10 23:45:54</td>\n",
              "      <td>1</td>\n",
              "      <td>[[None, 0.8926], [Prakash Rai, 0.1074]]</td>\n",
              "      <td>[https://indianexpress.com/article/business/ec...</td>\n",
              "      <td>E</td>\n",
              "      <td>None</td>\n",
              "      <td>None</td>\n",
              "      <td>None</td>\n",
              "      <td>None</td>\n",
              "      <td>None</td>\n",
              "      <td>None</td>\n",
              "      <td>None</td>\n",
              "      <td>None</td>\n",
              "      <td>None</td>\n",
              "      <td>None</td>\n",
              "      <td>left_only</td>\n",
              "    </tr>\n",
              "    <tr>\n",
              "      <th>3</th>\n",
              "      <td>2020-02-15-000053</td>\n",
              "      <td>... [ I ] f it gets to the floor,</td>\n",
              "      <td>None</td>\n",
              "      <td>None</td>\n",
              "      <td>2020-02-15 14:12:51</td>\n",
              "      <td>2</td>\n",
              "      <td>[[None, 0.581], [Andy Harris, 0.4191]]</td>\n",
              "      <td>[https://patriotpost.us/opinion/68622-trump-bu...</td>\n",
              "      <td>E</td>\n",
              "      <td>None</td>\n",
              "      <td>None</td>\n",
              "      <td>None</td>\n",
              "      <td>None</td>\n",
              "      <td>None</td>\n",
              "      <td>None</td>\n",
              "      <td>None</td>\n",
              "      <td>None</td>\n",
              "      <td>None</td>\n",
              "      <td>None</td>\n",
              "      <td>left_only</td>\n",
              "    </tr>\n",
              "    <tr>\n",
              "      <th>4</th>\n",
              "      <td>2020-01-24-000168</td>\n",
              "      <td>[ I met them ] when they just turned 4 and 7. ...</td>\n",
              "      <td>Meghan King Edmonds</td>\n",
              "      <td>Q20684375</td>\n",
              "      <td>2020-01-24 20:37:09</td>\n",
              "      <td>4</td>\n",
              "      <td>[[Meghan King Edmonds, 0.5446], [None, 0.2705]...</td>\n",
              "      <td>[https://people.com/parents/meghan-king-edmond...</td>\n",
              "      <td>E</td>\n",
              "      <td>[+1984-09-26T00:00:00Z]</td>\n",
              "      <td>None</td>\n",
              "      <td>female</td>\n",
              "      <td>None</td>\n",
              "      <td>None</td>\n",
              "      <td>None</td>\n",
              "      <td>None</td>\n",
              "      <td>Q20684375</td>\n",
              "      <td>None</td>\n",
              "      <td>None</td>\n",
              "      <td>both</td>\n",
              "    </tr>\n",
              "  </tbody>\n",
              "</table>\n",
              "</div>"
            ],
            "text/plain": [
              "             quoteID  ...     _merge\n",
              "0  2020-01-28-000082  ...  left_only\n",
              "1  2020-01-16-000088  ...       both\n",
              "2  2020-02-10-000142  ...  left_only\n",
              "3  2020-02-15-000053  ...  left_only\n",
              "4  2020-01-24-000168  ...       both\n",
              "\n",
              "[5 rows x 20 columns]"
            ]
          },
          "metadata": {},
          "execution_count": 7
        }
      ]
    },
    {
      "cell_type": "code",
      "metadata": {
        "colab": {
          "base_uri": "https://localhost:8080/",
          "height": 300
        },
        "id": "Sk1nP1VBET6T",
        "outputId": "771519b1-4569-4406-c80f-f388766c3e12"
      },
      "source": [
        "quotes.describe()"
      ],
      "execution_count": null,
      "outputs": [
        {
          "output_type": "execute_result",
          "data": {
            "text/html": [
              "<div>\n",
              "<style scoped>\n",
              "    .dataframe tbody tr th:only-of-type {\n",
              "        vertical-align: middle;\n",
              "    }\n",
              "\n",
              "    .dataframe tbody tr th {\n",
              "        vertical-align: top;\n",
              "    }\n",
              "\n",
              "    .dataframe thead th {\n",
              "        text-align: right;\n",
              "    }\n",
              "</style>\n",
              "<table border=\"1\" class=\"dataframe\">\n",
              "  <thead>\n",
              "    <tr style=\"text-align: right;\">\n",
              "      <th></th>\n",
              "      <th>numOccurrences</th>\n",
              "    </tr>\n",
              "  </thead>\n",
              "  <tbody>\n",
              "    <tr>\n",
              "      <th>count</th>\n",
              "      <td>100.000000</td>\n",
              "    </tr>\n",
              "    <tr>\n",
              "      <th>mean</th>\n",
              "      <td>1.490000</td>\n",
              "    </tr>\n",
              "    <tr>\n",
              "      <th>std</th>\n",
              "      <td>1.720318</td>\n",
              "    </tr>\n",
              "    <tr>\n",
              "      <th>min</th>\n",
              "      <td>1.000000</td>\n",
              "    </tr>\n",
              "    <tr>\n",
              "      <th>25%</th>\n",
              "      <td>1.000000</td>\n",
              "    </tr>\n",
              "    <tr>\n",
              "      <th>50%</th>\n",
              "      <td>1.000000</td>\n",
              "    </tr>\n",
              "    <tr>\n",
              "      <th>75%</th>\n",
              "      <td>1.000000</td>\n",
              "    </tr>\n",
              "    <tr>\n",
              "      <th>max</th>\n",
              "      <td>12.000000</td>\n",
              "    </tr>\n",
              "  </tbody>\n",
              "</table>\n",
              "</div>"
            ],
            "text/plain": [
              "       numOccurrences\n",
              "count      100.000000\n",
              "mean         1.490000\n",
              "std          1.720318\n",
              "min          1.000000\n",
              "25%          1.000000\n",
              "50%          1.000000\n",
              "75%          1.000000\n",
              "max         12.000000"
            ]
          },
          "metadata": {},
          "execution_count": 8
        }
      ]
    },
    {
      "cell_type": "code",
      "metadata": {
        "colab": {
          "base_uri": "https://localhost:8080/"
        },
        "id": "0dNMXXhjEX8c",
        "outputId": "b8c4f1db-b3c3-4ca3-867d-962bb2ca910a"
      },
      "source": [
        "quotes.info()"
      ],
      "execution_count": null,
      "outputs": [
        {
          "output_type": "stream",
          "name": "stdout",
          "text": [
            "<class 'pandas.core.frame.DataFrame'>\n",
            "RangeIndex: 100 entries, 0 to 99\n",
            "Data columns (total 20 columns):\n",
            " #   Column           Non-Null Count  Dtype         \n",
            "---  ------           --------------  -----         \n",
            " 0   quoteID          100 non-null    object        \n",
            " 1   quotation        100 non-null    object        \n",
            " 2   speaker          100 non-null    object        \n",
            " 3   qids             66 non-null     object        \n",
            " 4   date             100 non-null    datetime64[ns]\n",
            " 5   numOccurrences   100 non-null    int64         \n",
            " 6   probas           100 non-null    object        \n",
            " 7   urls             100 non-null    object        \n",
            " 8   phase            100 non-null    object        \n",
            " 9   date_of_birth    54 non-null     object        \n",
            " 10  nationality      49 non-null     object        \n",
            " 11  gender           63 non-null     object        \n",
            " 12  ethnic_group     3 non-null      object        \n",
            " 13  occupation       61 non-null     object        \n",
            " 14  party            12 non-null     object        \n",
            " 15  academic_degree  1 non-null      object        \n",
            " 16  id               66 non-null     object        \n",
            " 17  candidacy        3 non-null      object        \n",
            " 18  religion         7 non-null      object        \n",
            " 19  _merge           100 non-null    category      \n",
            "dtypes: category(1), datetime64[ns](1), int64(1), object(17)\n",
            "memory usage: 15.2+ KB\n"
          ]
        }
      ]
    }
  ]
}