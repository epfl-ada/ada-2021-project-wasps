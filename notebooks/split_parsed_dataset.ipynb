{
  "nbformat": 4,
  "nbformat_minor": 0,
  "metadata": {
    "colab": {
      "name": "split_parsed_dataset.ipynb",
      "provenance": []
    },
    "kernelspec": {
      "display_name": "Python 3",
      "name": "python3"
    },
    "language_info": {
      "name": "python"
    }
  },
  "cells": [
    {
      "cell_type": "markdown",
      "metadata": {
        "id": "KFuh20yOXcF2"
      },
      "source": [
        "## imports"
      ]
    },
    {
      "cell_type": "code",
      "metadata": {
        "colab": {
          "base_uri": "https://localhost:8080/"
        },
        "id": "WrxETkUcXQwd",
        "outputId": "cec728b8-a247-4db4-8981-98a605daf3d2"
      },
      "source": [
        "!pip install --upgrade pyarrow\n"
      ],
      "execution_count": 1,
      "outputs": [
        {
          "output_type": "stream",
          "name": "stdout",
          "text": [
            "Requirement already satisfied: pyarrow in /usr/local/lib/python3.7/dist-packages (6.0.1)\n",
            "Requirement already satisfied: numpy>=1.16.6 in /usr/local/lib/python3.7/dist-packages (from pyarrow) (1.19.5)\n"
          ]
        }
      ]
    },
    {
      "cell_type": "code",
      "metadata": {
        "id": "UO0IzBgfBKHH"
      },
      "source": [
        "from google.colab import drive\n",
        "import pandas as pd\n",
        "import pyarrow as pa\n",
        "import pyarrow.parquet as pq\n",
        "import pyarrow.dataset as ds\n",
        "\n",
        "from tqdm import tqdm\n",
        "import os"
      ],
      "execution_count": 2,
      "outputs": []
    },
    {
      "cell_type": "markdown",
      "metadata": {
        "id": "YPg0UrbXXgA_"
      },
      "source": [
        "## data"
      ]
    },
    {
      "cell_type": "code",
      "metadata": {
        "colab": {
          "base_uri": "https://localhost:8080/"
        },
        "id": "7Kp7pCr1BNUF",
        "outputId": "0ab599d9-4a54-4ff5-8949-e8e3b8268d51"
      },
      "source": [
        "drive.mount('/content/drive')"
      ],
      "execution_count": 3,
      "outputs": [
        {
          "output_type": "stream",
          "name": "stdout",
          "text": [
            "Drive already mounted at /content/drive; to attempt to forcibly remount, call drive.mount(\"/content/drive\", force_remount=True).\n"
          ]
        }
      ]
    },
    {
      "cell_type": "code",
      "metadata": {
        "id": "FtaMoFDhBXjw"
      },
      "source": [
        "path = \"/content/drive/MyDrive/quotes/quotes-2020-enhanced10000\"\n",
        "dataset = ds.dataset(path, format=\"parquet\")"
      ],
      "execution_count": 5,
      "outputs": []
    },
    {
      "cell_type": "markdown",
      "metadata": {
        "id": "gHoLr10BDgez"
      },
      "source": [
        "create directories"
      ]
    },
    {
      "cell_type": "code",
      "metadata": {
        "id": "Kr6He3AIXjgE"
      },
      "source": [
        "folder_path = \"/content/drive/MyDrive/parsed_quotes2/\"\n",
        "folders = ['nationality', 'gender', 'ethnic_group', 'occupation', 'party', 'academic_degree', 'candidacy', 'religion']\n",
        "none_folders = ['none' + i for i in folders]\n",
        "\n",
        "for f in folders + none_folders:\n",
        "  os.mkdir(folder_path + f)\n"
      ],
      "execution_count": 4,
      "outputs": []
    },
    {
      "cell_type": "markdown",
      "metadata": {
        "id": "nyZVKGXNXalx"
      },
      "source": [
        "## non none people"
      ]
    },
    {
      "cell_type": "code",
      "metadata": {
        "colab": {
          "base_uri": "https://localhost:8080/"
        },
        "id": "v7bJyS9hY4DJ",
        "outputId": "5f87ede4-5597-44d7-da37-9875e8e1834c"
      },
      "source": [
        "path = \"/content/drive/MyDrive/parsed_quotes2/author\"\n",
        "path_to_save_none = \"/content/drive/MyDrive/parsed_quotes2/none_author\"\n",
        "\n",
        "for i, d in tqdm(enumerate(dataset.to_batches())):\n",
        "  df = d.to_pandas()\n",
        "  mask = df['speaker'].apply(lambda x: x == 'None')\n",
        "  df_autors_none = df[mask.values]\n",
        "  df_autors_not_none = df[~mask.values]\n",
        "\n",
        "  #save quotes\n",
        "  table = pa.Table.from_pandas(df_autors_not_none, preserve_index=True)         \n",
        "  pq.write_table(table, path + f\"/{i}\" + \".parquet\")\n",
        "\n",
        "  #save not in description\n",
        "  table = pa.Table.from_pandas(df_autors_none, preserve_index=True)         \n",
        "  pq.write_table(table, path_to_save_none + f\"/{i}\" + \".parquet\")\n"
      ],
      "execution_count": 22,
      "outputs": [
        {
          "output_type": "stream",
          "name": "stderr",
          "text": [
            "743it [05:25,  2.28it/s]\n"
          ]
        }
      ]
    },
    {
      "cell_type": "markdown",
      "metadata": {
        "id": "WPH1AzcKANcK"
      },
      "source": [
        "## split function"
      ]
    },
    {
      "cell_type": "code",
      "metadata": {
        "id": "GqCkceBiAQEx"
      },
      "source": [
        "def split_and_save(main_path, path_to_save_not_none, path_to_save_none, column_name):\n",
        "  dataset = ds.dataset(main_path, format=\"parquet\")\n",
        "\n",
        "  for i, d in tqdm(enumerate(dataset.to_batches())):\n",
        "    df = d.to_pandas()\n",
        "    mask = df[column_name].apply(lambda x: str(x) == 'None')\n",
        "    df_none = df[mask.values]\n",
        "    df_not_none = df[~mask.values]\n",
        "\n",
        "    #save not none\n",
        "    table = pa.Table.from_pandas(df_not_none, preserve_index=True)         \n",
        "    pq.write_table(table, path_to_save_not_none + f\"/{i}\" + \".parquet\")\n",
        "\n",
        "    #save none\n",
        "    table = pa.Table.from_pandas(df_none, preserve_index=True)         \n",
        "    pq.write_table(table, path_to_save_none + f\"/{i}\" + \".parquet\")"
      ],
      "execution_count": 8,
      "outputs": []
    },
    {
      "cell_type": "code",
      "metadata": {
        "colab": {
          "base_uri": "https://localhost:8080/"
        },
        "id": "ghLRayP5A34O",
        "outputId": "36263b90-8d8a-4dbd-e96f-86df6aaac297"
      },
      "source": [
        "main_path = \"/content/drive/MyDrive/parsed_quotes2/author\"\n",
        "upper_path = \"/content/drive/MyDrive/parsed_quotes2/\"\n",
        "for col, none_col in zip(folders, none_folders):\n",
        "  split_and_save(main_path, upper_path + col, upper_path + none_col, col)"
      ],
      "execution_count": null,
      "outputs": [
        {
          "output_type": "stream",
          "name": "stderr",
          "text": [
            "743it [04:46,  2.59it/s]\n",
            "36it [00:11,  2.90it/s]"
          ]
        }
      ]
    }
  ]
}