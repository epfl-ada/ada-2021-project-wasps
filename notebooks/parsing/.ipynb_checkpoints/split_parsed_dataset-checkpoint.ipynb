{
 "cells": [
  {
   "cell_type": "markdown",
   "metadata": {
    "id": "KFuh20yOXcF2"
   },
   "source": [
    "## imports"
   ]
  },
  {
   "cell_type": "code",
   "execution_count": 1,
   "metadata": {
    "colab": {
     "base_uri": "https://localhost:8080/"
    },
    "id": "WrxETkUcXQwd",
    "outputId": "cec728b8-a247-4db4-8981-98a605daf3d2"
   },
   "outputs": [
    {
     "name": "stdout",
     "output_type": "stream",
     "text": [
      "Requirement already satisfied: pyarrow in /usr/local/lib/python3.7/dist-packages (6.0.1)\n",
      "Requirement already satisfied: numpy>=1.16.6 in /usr/local/lib/python3.7/dist-packages (from pyarrow) (1.19.5)\n"
     ]
    }
   ],
   "source": [
    "!pip install --upgrade pyarrow\n"
   ]
  },
  {
   "cell_type": "code",
   "execution_count": 2,
   "metadata": {
    "id": "UO0IzBgfBKHH"
   },
   "outputs": [],
   "source": [
    "from google.colab import drive\n",
    "import pandas as pd\n",
    "import pyarrow as pa\n",
    "import pyarrow.parquet as pq\n",
    "import pyarrow.dataset as ds\n",
    "\n",
    "from tqdm import tqdm\n",
    "import os"
   ]
  },
  {
   "cell_type": "markdown",
   "metadata": {
    "id": "YPg0UrbXXgA_"
   },
   "source": [
    "## data"
   ]
  },
  {
   "cell_type": "code",
   "execution_count": 3,
   "metadata": {
    "colab": {
     "base_uri": "https://localhost:8080/"
    },
    "id": "7Kp7pCr1BNUF",
    "outputId": "0ab599d9-4a54-4ff5-8949-e8e3b8268d51"
   },
   "outputs": [
    {
     "name": "stdout",
     "output_type": "stream",
     "text": [
      "Drive already mounted at /content/drive; to attempt to forcibly remount, call drive.mount(\"/content/drive\", force_remount=True).\n"
     ]
    }
   ],
   "source": [
    "drive.mount('/content/drive')"
   ]
  },
  {
   "cell_type": "code",
   "execution_count": 5,
   "metadata": {
    "id": "FtaMoFDhBXjw"
   },
   "outputs": [],
   "source": [
    "path = ''\n",
    "dataset = ds.dataset(path, format=\"parquet\")"
   ]
  },
  {
   "cell_type": "markdown",
   "metadata": {
    "id": "gHoLr10BDgez"
   },
   "source": [
    "create directories"
   ]
  },
  {
   "cell_type": "code",
   "execution_count": 4,
   "metadata": {
    "id": "Kr6He3AIXjgE"
   },
   "outputs": [],
   "source": [
    "folder_path = ''\n",
    "folders = ['nationality', 'gender', 'ethnic_group', 'occupation', 'party', 'academic_degree', 'candidacy', 'religion']\n",
    "none_folders = ['none_' + i for i in folders]\n",
    "\n",
    "for f in folders + none_folders:\n",
    "  try:\n",
    "    os.mkdir(folder_path + f)\n",
    "  except:\n",
    "    pass"
   ]
  },
  {
   "cell_type": "markdown",
   "metadata": {
    "id": "nyZVKGXNXalx"
   },
   "source": [
    "## none people"
   ]
  },
  {
   "cell_type": "markdown",
   "metadata": {},
   "source": [
    "split data where speaker is not known"
   ]
  },
  {
   "cell_type": "code",
   "execution_count": null,
   "metadata": {
    "colab": {
     "base_uri": "https://localhost:8080/"
    },
    "id": "v7bJyS9hY4DJ",
    "outputId": "5f87ede4-5597-44d7-da37-9875e8e1834c"
   },
   "outputs": [],
   "source": [
    "path = \"/content/drive/MyDrive/parsed_quotes2/speaker\"\n",
    "path_to_save_none = \"/content/drive/MyDrive/parsed_quotes2/none_speaker\"\n",
    "\n",
    "for i, d in tqdm(enumerate(dataset.to_batches())):\n",
    "  df = d.to_pandas()\n",
    "  mask = df['speaker'].apply(lambda x: x == 'None')\n",
    "  df_autors_none = df[mask.values]\n",
    "  df_autors_not_none = df[~mask.values]\n",
    "\n",
    "  #save quotes\n",
    "  table = pa.Table.from_pandas(df_autors_not_none, preserve_index=True)         \n",
    "  pq.write_table(table, path + f\"/{i}\" + \".parquet\")\n",
    "\n",
    "  #save not in description\n",
    "  table = pa.Table.from_pandas(df_autors_none, preserve_index=True)         \n",
    "  pq.write_table(table, path_to_save_none + f\"/{i}\" + \".parquet\")\n"
   ]
  },
  {
   "cell_type": "markdown",
   "metadata": {
    "id": "WPH1AzcKANcK"
   },
   "source": [
    "## split function"
   ]
  },
  {
   "cell_type": "markdown",
   "metadata": {},
   "source": [
    "Split column name into datasets with none and not none"
   ]
  },
  {
   "cell_type": "code",
   "execution_count": 8,
   "metadata": {
    "id": "GqCkceBiAQEx"
   },
   "outputs": [],
   "source": [
    "def split_and_save(main_path, path_to_save_not_none, path_to_save_none, column_name):\n",
    "  dataset = ds.dataset(main_path, format=\"parquet\")\n",
    "\n",
    "  for i, d in tqdm(enumerate(dataset.to_batches())):\n",
    "    df = d.to_pandas()\n",
    "    mask = df[column_name].apply(lambda x: str(x) == 'None')\n",
    "    df_none = df[mask.values]\n",
    "    df_not_none = df[~mask.values]\n",
    "\n",
    "    #save not none\n",
    "    table = pa.Table.from_pandas(df_not_none, preserve_index=True)         \n",
    "    pq.write_table(table, path_to_save_not_none + f\"/{i}\" + \".parquet\")\n",
    "\n",
    "    #save none\n",
    "    table = pa.Table.from_pandas(df_none, preserve_index=True)         \n",
    "    pq.write_table(table, path_to_save_none + f\"/{i}\" + \".parquet\")"
   ]
  },
  {
   "cell_type": "code",
   "execution_count": null,
   "metadata": {
    "colab": {
     "base_uri": "https://localhost:8080/"
    },
    "id": "ghLRayP5A34O",
    "outputId": "36263b90-8d8a-4dbd-e96f-86df6aaac297"
   },
   "outputs": [],
   "source": [
    "main_path = \"/content/drive/MyDrive/parsed_quotes2/speaker\"\n",
    "upper_path = \"/content/drive/MyDrive/parsed_quotes2/\"\n",
    "for col, none_col in zip(folders, none_folders):\n",
    "  split_and_save(main_path, upper_path + col, upper_path + none_col, col)"
   ]
  }
 ],
 "metadata": {
  "colab": {
   "name": "split_parsed_dataset.ipynb",
   "provenance": []
  },
  "kernelspec": {
   "display_name": "Python 3 (ipykernel)",
   "language": "python",
   "name": "python3"
  },
  "language_info": {
   "codemirror_mode": {
    "name": "ipython",
    "version": 3
   },
   "file_extension": ".py",
   "mimetype": "text/x-python",
   "name": "python",
   "nbconvert_exporter": "python",
   "pygments_lexer": "ipython3",
   "version": "3.8.10"
  }
 },
 "nbformat": 4,
 "nbformat_minor": 1
}
