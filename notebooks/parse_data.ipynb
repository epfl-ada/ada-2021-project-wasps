{
  "nbformat": 4,
  "nbformat_minor": 0,
  "metadata": {
    "colab": {
      "name": "parse_data.ipynb",
      "provenance": [],
      "collapsed_sections": []
    },
    "kernelspec": {
      "display_name": "Python 3",
      "name": "python3"
    },
    "language_info": {
      "name": "python"
    }
  },
  "cells": [
    {
      "cell_type": "markdown",
      "metadata": {
        "id": "pn2e7pGb8gD1"
      },
      "source": [
        "# imports and data mountage"
      ]
    },
    {
      "cell_type": "code",
      "metadata": {
        "colab": {
          "base_uri": "https://localhost:8080/"
        },
        "id": "AAozqLPDqzga",
        "outputId": "cb69b107-01c2-49fa-c9bb-2916c05cac40"
      },
      "source": [
        "pip install --upgrade pandas\n",
        "pip install --upgrade pyarrow"
      ],
      "execution_count": 1,
      "outputs": [
        {
          "output_type": "stream",
          "name": "stdout",
          "text": [
            "Requirement already satisfied: pandas in /usr/local/lib/python3.7/dist-packages (1.3.4)\n",
            "Requirement already satisfied: numpy>=1.17.3 in /usr/local/lib/python3.7/dist-packages (from pandas) (1.19.5)\n",
            "Requirement already satisfied: pytz>=2017.3 in /usr/local/lib/python3.7/dist-packages (from pandas) (2018.9)\n",
            "Requirement already satisfied: python-dateutil>=2.7.3 in /usr/local/lib/python3.7/dist-packages (from pandas) (2.8.2)\n",
            "Requirement already satisfied: six>=1.5 in /usr/local/lib/python3.7/dist-packages (from python-dateutil>=2.7.3->pandas) (1.15.0)\n"
          ]
        }
      ]
    },
    {
      "cell_type": "code",
      "metadata": {
        "id": "UgR5xB1_8jqi"
      },
      "source": [
        "from google.colab import drive\n",
        "import pandas as pd\n",
        "import pyarrow as pa\n",
        "import pyarrow.parquet as pq\n",
        "import pyarrow.dataset as ds\n",
        "import numpy as np\n",
        "import math\n",
        "from tqdm import tqdm\n",
        "import logging\n",
        "\n",
        "pd.__version__"
      ],
      "execution_count": 2,
      "outputs": []
    },
    {
      "cell_type": "code",
      "metadata": {
        "colab": {
          "base_uri": "https://localhost:8080/"
        },
        "id": "8bBTxrA084tt",
        "outputId": "0f7cf12c-82bf-4e67-dc37-940d84cceded"
      },
      "source": [
        "drive.mount('/content/drive')"
      ],
      "execution_count": 3,
      "outputs": [
        {
          "output_type": "stream",
          "name": "stdout",
          "text": [
            "Drive already mounted at /content/drive; to attempt to forcibly remount, call drive.mount(\"/content/drive\", force_remount=True).\n"
          ]
        }
      ]
    },
    {
      "cell_type": "code",
      "metadata": {
        "id": "aywwvNir_VLC"
      },
      "source": [
        "logging.basicConfig(level=logging.DEBUG, filename='/content/drive/MyDrive/quotes/quotes.log')"
      ],
      "execution_count": 4,
      "outputs": []
    },
    {
      "cell_type": "markdown",
      "metadata": {
        "id": "24ZrQO5G8vSa"
      },
      "source": [
        "# read files"
      ]
    },
    {
      "cell_type": "code",
      "metadata": {
        "id": "dAzwG03k83sv"
      },
      "source": [
        "path_to_attr = '/content/drive/MyDrive/Project datasets/speaker_attributes.parquet'\n",
        "path_to_quotbank_desc = '/content/drive/MyDrive/Project datasets/wikidata_labels_descriptions_quotebank.csv.bz2'\n",
        "path_to_quotbank = '/content/drive/MyDrive/Quotebank/quotes-2020.json.bz2' "
      ],
      "execution_count": 6,
      "outputs": []
    },
    {
      "cell_type": "code",
      "metadata": {
        "id": "5uY1p8kvCtmz"
      },
      "source": [
        "columns = ['date_of_birth', 'nationality', 'gender', 'ethnic_group', 'occupation', 'party', 'academic_degree', 'id', 'candidacy', 'religion']\n",
        "attr = pd.read_parquet(path_to_attr, columns=columns)"
      ],
      "execution_count": 8,
      "outputs": []
    },
    {
      "cell_type": "code",
      "metadata": {
        "id": "TTxH8j0bk3eu"
      },
      "source": [
        "desc = pd.read_csv(path_to_quotbank_desc, compression='bz2', index_col='QID') "
      ],
      "execution_count": 9,
      "outputs": []
    },
    {
      "cell_type": "markdown",
      "metadata": {
        "id": "634MnsW5FzFs"
      },
      "source": [
        "# process data"
      ]
    },
    {
      "cell_type": "markdown",
      "metadata": {
        "id": "9rN0AsuNl3TY"
      },
      "source": [
        "## Profile"
      ]
    },
    {
      "cell_type": "code",
      "metadata": {
        "id": "90PdZAUSDrAA"
      },
      "source": [
        "def to_profile(chunk_size, path_to_dataset):\n",
        "  quotebank_reader = pd.read_json(path_to_quotbank, lines=True, compression='bz2', chunksize=chunk_size)\n",
        "  columns = ['nationality', 'gender', 'ethnic_group', 'occupation', 'party', 'academic_degree', 'candidacy', 'religion'] \n",
        "  path_to_dataset = path_to_dataset \n",
        "\n",
        "  for i, quote in tqdm(enumerate(quotebank_reader)):\n",
        "    #multiple people in one quote\n",
        "    quote = quote.explode('qids')\n",
        "\n",
        "    #marge with atributes\n",
        "    quote = quote.merge(attr, how='left', left_on='qids', right_on='id', indicator=True)\n",
        "\n",
        "    #decript values\n",
        "    try:\n",
        "      quote[columns] = quote[columns].applymap(lambda x: desc.loc[x]['Label'].values[0], na_action='ignore')\n",
        "    except:\n",
        "      logging.exception(f\"on chunk {i} after {i*chunk_size}:\")\n",
        "      print(f\"error {i}\")\n",
        "      continue\n",
        "\n",
        "    #unify NaN to None\n",
        "    quote = quote.where(pd.notnull(quote), None)\n",
        "\n",
        "    #save\n",
        "    table = pa.Table.from_pandas(quote, preserve_index=False)         \n",
        "    pq.write_table(table, path_to_dataset + f\"/{i}\" + \".parquet\")\n",
        "    if i % 100 == 0:\n",
        "      print((i+1)*chunk_size)"
      ],
      "execution_count": 10,
      "outputs": []
    },
    {
      "cell_type": "code",
      "metadata": {
        "colab": {
          "base_uri": "https://localhost:8080/"
        },
        "id": "oHOsJWccnYYI",
        "outputId": "0159fca7-021b-40e6-86f0-28eeaabe9c2f"
      },
      "source": [
        "%%time\n",
        "to_profile(10000,\"/content/drive/MyDrive/quotes/quotes-2020-enhanced10000\")"
      ],
      "execution_count": null,
      "outputs": [
        {
          "metadata": {
            "tags": null
          },
          "name": "stderr",
          "output_type": "stream",
          "text": [
            "1it [00:35, 35.42s/it]"
          ]
        },
        {
          "metadata": {
            "tags": null
          },
          "name": "stdout",
          "output_type": "stream",
          "text": [
            "10000\n"
          ]
        },
        {
          "metadata": {
            "tags": null
          },
          "name": "stderr",
          "output_type": "stream",
          "text": [
            "12it [06:42, 31.86s/it]"
          ]
        },
        {
          "metadata": {
            "tags": null
          },
          "name": "stdout",
          "output_type": "stream",
          "text": [
            "error 11\n"
          ]
        },
        {
          "metadata": {
            "tags": null
          },
          "name": "stderr",
          "output_type": "stream",
          "text": [
            "18it [09:56, 30.72s/it]"
          ]
        },
        {
          "metadata": {
            "tags": null
          },
          "name": "stdout",
          "output_type": "stream",
          "text": [
            "error 17\n"
          ]
        },
        {
          "metadata": {
            "tags": null
          },
          "name": "stderr",
          "output_type": "stream",
          "text": [
            "26it [14:15, 31.83s/it]"
          ]
        },
        {
          "metadata": {
            "tags": null
          },
          "name": "stdout",
          "output_type": "stream",
          "text": [
            "error 25\n"
          ]
        },
        {
          "metadata": {
            "tags": null
          },
          "name": "stderr",
          "output_type": "stream",
          "text": [
            "\r27it [14:42, 30.33s/it]"
          ]
        },
        {
          "metadata": {
            "tags": null
          },
          "name": "stdout",
          "output_type": "stream",
          "text": [
            "error 26\n"
          ]
        },
        {
          "metadata": {
            "tags": null
          },
          "name": "stderr",
          "output_type": "stream",
          "text": [
            "\r28it [15:08, 29.19s/it]"
          ]
        },
        {
          "metadata": {
            "tags": null
          },
          "name": "stdout",
          "output_type": "stream",
          "text": [
            "error 27\n"
          ]
        },
        {
          "metadata": {
            "tags": null
          },
          "name": "stderr",
          "output_type": "stream",
          "text": [
            "33it [17:48, 31.14s/it]"
          ]
        },
        {
          "metadata": {
            "tags": null
          },
          "name": "stdout",
          "output_type": "stream",
          "text": [
            "error 32\n"
          ]
        },
        {
          "metadata": {
            "tags": null
          },
          "name": "stderr",
          "output_type": "stream",
          "text": [
            "39it [21:03, 31.86s/it]"
          ]
        },
        {
          "metadata": {
            "tags": null
          },
          "name": "stdout",
          "output_type": "stream",
          "text": [
            "error 38\n"
          ]
        },
        {
          "metadata": {
            "tags": null
          },
          "name": "stderr",
          "output_type": "stream",
          "text": [
            "47it [25:25, 32.02s/it]"
          ]
        },
        {
          "metadata": {
            "tags": null
          },
          "name": "stdout",
          "output_type": "stream",
          "text": [
            "error 46\n"
          ]
        },
        {
          "metadata": {
            "tags": null
          },
          "name": "stderr",
          "output_type": "stream",
          "text": [
            "52it [28:04, 31.03s/it]"
          ]
        },
        {
          "metadata": {
            "tags": null
          },
          "name": "stdout",
          "output_type": "stream",
          "text": [
            "error 51\n"
          ]
        },
        {
          "output_type": "stream",
          "name": "stderr",
          "text": [
            "59it [31:54, 32.15s/it]"
          ]
        },
        {
          "output_type": "stream",
          "name": "stdout",
          "text": [
            "error 58\n"
          ]
        },
        {
          "output_type": "stream",
          "name": "stderr",
          "text": [
            "64it [34:37, 31.85s/it]"
          ]
        },
        {
          "output_type": "stream",
          "name": "stdout",
          "text": [
            "error 63\n"
          ]
        },
        {
          "output_type": "stream",
          "name": "stderr",
          "text": [
            "68it [36:47, 31.80s/it]"
          ]
        },
        {
          "output_type": "stream",
          "name": "stdout",
          "text": [
            "error 67\n"
          ]
        },
        {
          "output_type": "stream",
          "name": "stderr",
          "text": [
            "83it [45:03, 31.14s/it]"
          ]
        },
        {
          "output_type": "stream",
          "name": "stdout",
          "text": [
            "error 82\n"
          ]
        }
      ]
    },
    {
      "cell_type": "markdown",
      "metadata": {
        "id": "9rcBvus9RXjO"
      },
      "source": [
        "### Check "
      ]
    },
    {
      "cell_type": "code",
      "metadata": {
        "id": "rSToca4GRZr5"
      },
      "source": [
        "dataset = ds.dataset(\"/content/drive/MyDrive/quotes/quotes-2020-enhanced10000\", format=\"parquet\")\n",
        "print(dataset.files)\n",
        "df = dataset.head(100).to_pandas()\n",
        "df.info()\n"
      ],
      "execution_count": null,
      "outputs": []
    },
    {
      "cell_type": "code",
      "metadata": {
        "id": "6RFhASJXKuai"
      },
      "source": [
        "df.head()"
      ],
      "execution_count": null,
      "outputs": []
    }
  ]
}